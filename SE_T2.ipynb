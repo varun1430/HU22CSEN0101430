{
  "nbformat": 4,
  "nbformat_minor": 0,
  "metadata": {
    "colab": {
      "provenance": [],
      "authorship_tag": "ABX9TyOSlSebeGUwzgGj2Bz58AcQ",
      "include_colab_link": true
    },
    "kernelspec": {
      "name": "python3",
      "display_name": "Python 3"
    },
    "language_info": {
      "name": "python"
    }
  },
  "cells": [
    {
      "cell_type": "markdown",
      "metadata": {
        "id": "view-in-github",
        "colab_type": "text"
      },
      "source": [
        "<a href=\"https://colab.research.google.com/github/varun1430/HU22CSEN0101430/blob/main/SE_T2.ipynb\" target=\"_parent\"><img src=\"https://colab.research.google.com/assets/colab-badge.svg\" alt=\"Open In Colab\"/></a>"
      ]
    },
    {
      "cell_type": "code",
      "source": [
        "def temperature_modeling(a, b, c, time):\n",
        "    # Quadratic equation for temperature\n",
        "    return a * time**2 + b * time + c"
      ],
      "metadata": {
        "id": "VEx0ZIeuzU5P"
      },
      "execution_count": 12,
      "outputs": []
    },
    {
      "cell_type": "code",
      "source": [
        "# Hardcoded variables\n",
        "a, b, c = -8.1, 2, 18\n",
        "time = 5\n",
        "\n",
        "# Display results\n",
        "print(\"Hard-coded variables for weather modeling\")\n",
        "print(f\"Temperature at time {time} hours: {temperature_modeling(a, b, c, time)}\")"
      ],
      "metadata": {
        "colab": {
          "base_uri": "https://localhost:8080/"
        },
        "id": "NfBOANho107Z",
        "outputId": "0932b688-9eb7-424b-b90f-014055e5b51d"
      },
      "execution_count": 13,
      "outputs": [
        {
          "output_type": "stream",
          "name": "stdout",
          "text": [
            "Hard-coded variables for weather modeling\n",
            "Temperature at time 5 hours: -174.5\n"
          ]
        }
      ]
    },
    {
      "cell_type": "code",
      "source": [
        "def temperature_modeling(a, b, c, time):\n",
        "    return a * time**2 + b * time + c\n",
        "\n",
        "# Accepting input from the user\n",
        "a = float(input(\"Enter coefficient a: \"))\n",
        "b = float(input(\"Enter coefficient b: \"))\n",
        "c = float(input(\"Enter coefficient c: \"))\n",
        "time = float(input(\"Enter time: \"))\n",
        "\n",
        "# Display results\n",
        "print(\"Variables entered via keyboard\")\n",
        "print(f\"Temperature at time {time} hours: {temperature_modeling(a, b, c, time)}\")"
      ],
      "metadata": {
        "colab": {
          "base_uri": "https://localhost:8080/"
        },
        "id": "i6-mwRjn14CA",
        "outputId": "ef8b8a65-3321-45bb-f758-04f794d566f8"
      },
      "execution_count": 14,
      "outputs": [
        {
          "output_type": "stream",
          "name": "stdout",
          "text": [
            "Enter coefficient a: -8.1\n",
            "Enter coefficient b: 2\n",
            "Enter coefficient c: 18\n",
            "Enter time: 5\n",
            "Variables entered via keyboard\n",
            "Temperature at time 5.0 hours: -174.5\n"
          ]
        }
      ]
    },
    {
      "cell_type": "code",
      "source": [
        "# Create and write to input.txt\n",
        "with open(\"input.txt\", \"w\") as file:\n",
        "    # Add example data: coefficients and time (a, b, c, time)\n",
        "    file.write(\"-8.1,2,18,5\\n\")\n",
        "    file.write(\"-6.0,3,15,7\\n\")\n",
        "    file.write(\"-4.5,1.5,10,3\\n\")\n",
        "\n",
        "print(\"input.txt created successfully!\")"
      ],
      "metadata": {
        "colab": {
          "base_uri": "https://localhost:8080/"
        },
        "id": "QHNH48Kr4H7v",
        "outputId": "67417299-8df8-4c54-838e-713469690acf"
      },
      "execution_count": 19,
      "outputs": [
        {
          "output_type": "stream",
          "name": "stdout",
          "text": [
            "input.txt created successfully!\n"
          ]
        }
      ]
    },
    {
      "cell_type": "code",
      "source": [
        "def read_from_file(filename):\n",
        "    with open(filename, 'r') as file:\n",
        "        lines = file.readlines()\n",
        "        coefficients = [tuple(map(float, line.strip().split(','))) for line in lines]\n",
        "    return coefficients\n",
        "\n",
        "# Example usage\n",
        "filename = \"input.txt\"\n",
        "coefficients = read_from_file(filename)\n",
        "print(\"Coefficients read from file:\")\n",
        "for coeff in coefficients:\n",
        "    print(coeff)"
      ],
      "metadata": {
        "colab": {
          "base_uri": "https://localhost:8080/"
        },
        "id": "az7-FQnE4_dX",
        "outputId": "8201baf1-092c-4ca6-e469-89fe07ad7d46"
      },
      "execution_count": 20,
      "outputs": [
        {
          "output_type": "stream",
          "name": "stdout",
          "text": [
            "Coefficients read from file:\n",
            "(-8.1, 2.0, 18.0, 5.0)\n",
            "(-6.0, 3.0, 15.0, 7.0)\n",
            "(-4.5, 1.5, 10.0, 3.0)\n"
          ]
        }
      ]
    },
    {
      "cell_type": "code",
      "source": [
        "coefficients = read_from_file(\"input.txt\")\n",
        "a, b, c, time = coefficients[0]  # Process the first set\n",
        "\n",
        "# Display results\n",
        "print(\"Processing a single set of inputs from the file\")\n",
        "print(f\"Temperature at time {time} hours: {temperature_modeling(a, b, c, time)}\")"
      ],
      "metadata": {
        "colab": {
          "base_uri": "https://localhost:8080/"
        },
        "id": "rv1RpKDl5egr",
        "outputId": "94544195-3c63-4c85-f168-a5caf724d08c"
      },
      "execution_count": 22,
      "outputs": [
        {
          "output_type": "stream",
          "name": "stdout",
          "text": [
            "Processing a single set of inputs from the file\n",
            "Temperature at time 5.0 hours: -174.5\n"
          ]
        }
      ]
    },
    {
      "cell_type": "code",
      "source": [
        "coefficients = read_from_file(\"input.txt\")\n",
        "\n",
        "print(\"Processing multiple sets of inputs:\")\n",
        "for idx, (a, b, c, time) in enumerate(coefficients):\n",
        "    temperature = temperature_modeling(a, b, c, time)\n",
        "    print(f\"Set {idx + 1}: Temperature at time {time} hours is {temperature}\")"
      ],
      "metadata": {
        "colab": {
          "base_uri": "https://localhost:8080/"
        },
        "id": "OQw8bobF6AmI",
        "outputId": "cd39f48e-03c4-44e2-a20b-db3d8f664f40"
      },
      "execution_count": 25,
      "outputs": [
        {
          "output_type": "stream",
          "name": "stdout",
          "text": [
            "Processing multiple sets of inputs:\n",
            "Set 1: Temperature at time 5.0 hours is -174.5\n",
            "Set 2: Temperature at time 7.0 hours is -258.0\n",
            "Set 3: Temperature at time 3.0 hours is -26.0\n"
          ]
        }
      ]
    }
  ]
}